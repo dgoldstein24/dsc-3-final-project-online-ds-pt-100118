{
 "cells": [
  {
   "cell_type": "markdown",
   "metadata": {},
   "source": []
  },
  {
   "cell_type": "code",
   "execution_count": 63,
   "metadata": {},
   "outputs": [],
   "source": [
    "# Your code here - remember to use markdown cells for comments as well!\n",
    "\n",
    "\n",
    "from bs4 import BeautifulSoup\n",
    "import requests\n",
    "from splinter import Browser\n",
    "import pandas as pd\n",
    "import numpy as np\n",
    "import matplotlib.pyplot as plt\n",
    "import json"
   ]
  },
  {
   "cell_type": "code",
   "execution_count": 64,
   "metadata": {},
   "outputs": [],
   "source": [
    "url = 'http://quotes.toscrape.com/'"
   ]
  },
  {
   "cell_type": "code",
   "execution_count": 65,
   "metadata": {},
   "outputs": [],
   "source": [
    "browser = Browser('chrome', headless = False) #headless to false makes a window pop up\n",
    "browser.visit(url)"
   ]
  },
  {
   "cell_type": "code",
   "execution_count": 66,
   "metadata": {},
   "outputs": [
    {
     "data": {
      "text/plain": [
       "['“The world as we have created it is a process of our thinking. It cannot be changed without changing our thinking.”',\n",
       " '“It is our choices, Harry, that show what we truly are, far more than our abilities.”',\n",
       " '“There are only two ways to live your life. One is as though nothing is a miracle. The other is as though everything is a miracle.”',\n",
       " '“The person, be it gentleman or lady, who has not pleasure in a good novel, must be intolerably stupid.”',\n",
       " \"“Imperfection is beauty, madness is genius and it's better to be absolutely ridiculous than absolutely boring.”\",\n",
       " '“Try not to become a man of success. Rather become a man of value.”',\n",
       " '“It is better to be hated for what you are than to be loved for what you are not.”',\n",
       " \"“I have not failed. I've just found 10,000 ways that won't work.”\",\n",
       " \"“A woman is like a tea bag; you never know how strong it is until it's in hot water.”\",\n",
       " '“A day without sunshine is like, you know, night.”']"
      ]
     },
     "execution_count": 66,
     "metadata": {},
     "output_type": "execute_result"
    }
   ],
   "source": [
    "html = browser.html\n",
    "soup = BeautifulSoup(html, 'html.parser')\n",
    "quotes = []\n",
    "\n",
    "for x in soup.find_all('span', class_ = 'text',):\n",
    "    quotes.append(x.text)\n",
    "quotes"
   ]
  },
  {
   "cell_type": "code",
   "execution_count": 67,
   "metadata": {},
   "outputs": [
    {
     "data": {
      "text/plain": [
       "['Albert Einstein',\n",
       " 'J.K. Rowling',\n",
       " 'Albert Einstein',\n",
       " 'Jane Austen',\n",
       " 'Marilyn Monroe',\n",
       " 'Albert Einstein',\n",
       " 'André Gide',\n",
       " 'Thomas A. Edison',\n",
       " 'Eleanor Roosevelt',\n",
       " 'Steve Martin']"
      ]
     },
     "execution_count": 67,
     "metadata": {},
     "output_type": "execute_result"
    }
   ],
   "source": [
    "authors = []\n",
    "\n",
    "for x in soup.find_all('small', class_ = 'author'):\n",
    "    authors.append(x.text)\n",
    "authors"
   ]
  },
  {
   "cell_type": "code",
   "execution_count": 68,
   "metadata": {},
   "outputs": [
    {
     "data": {
      "text/plain": [
       "[['change', 'deep-thoughts', 'thinking', 'world'],\n",
       " ['abilities', 'choices'],\n",
       " ['inspirational', 'life', 'live', 'miracle', 'miracles'],\n",
       " ['aliteracy', 'books', 'classic', 'humor'],\n",
       " ['be-yourself', 'inspirational'],\n",
       " ['adulthood', 'success', 'value'],\n",
       " ['life', 'love'],\n",
       " ['edison', 'failure', 'inspirational', 'paraphrased'],\n",
       " ['misattributed-eleanor-roosevelt'],\n",
       " ['humor', 'obvious', 'simile']]"
      ]
     },
     "execution_count": 68,
     "metadata": {},
     "output_type": "execute_result"
    }
   ],
   "source": [
    "tags = []\n",
    "\n",
    "soup.find_all('div', class_ = 'tags')[0].find_all('a')[0].text\n",
    "\n",
    "for element in soup.find_all('div', class_ = 'tags'):\n",
    "    element_tags = []\n",
    "    for tag in element.find_all('a'):\n",
    "        element_tags.append(tag.text)\n",
    "    tags.append(element_tags)\n",
    "\n",
    "tags\n",
    "        "
   ]
  },
  {
   "cell_type": "code",
   "execution_count": 69,
   "metadata": {},
   "outputs": [],
   "source": [
    "browser.click_link_by_text('Next ')"
   ]
  },
  {
   "cell_type": "code",
   "execution_count": 70,
   "metadata": {},
   "outputs": [],
   "source": [
    "browser.click_link_by_text(' Previous')"
   ]
  },
  {
   "cell_type": "code",
   "execution_count": 71,
   "metadata": {},
   "outputs": [],
   "source": [
    "import time"
   ]
  },
  {
   "cell_type": "code",
   "execution_count": 77,
   "metadata": {},
   "outputs": [],
   "source": [
    "#pull all quotes\n",
    "\n",
    "browser = Browser('chrome', headless = True) #headless to false makes a window pop up\n",
    "browser.visit(url)\n",
    "html = browser.html\n",
    "soup = BeautifulSoup(html, 'html.parser')\n",
    "\n",
    "quotes = []\n",
    "\n",
    "i = True\n",
    "\n",
    "while i == True:\n",
    "    \n",
    "    \n",
    "\n",
    "    for x in soup.find_all('span', class_ = 'text'):\n",
    "        quotes.append(x.text)\n",
    "        \n",
    "    #try-accept statement -> keep going next until there is an error    \n",
    "    try: \n",
    "        browser.click_link_by_partial_text('Next')#click next\n",
    "        time.sleep(1) #helps with not getting banned\n",
    "        html = browser.html #need to grab new html\n",
    "        soup = BeautifulSoup(html, 'html.parser')#get new text from new page\n",
    "    \n",
    "    except:\n",
    "        break\n",
    "\n",
    "    "
   ]
  },
  {
   "cell_type": "code",
   "execution_count": 78,
   "metadata": {},
   "outputs": [],
   "source": [
    "#pull all authors\n",
    "\n",
    "browser = Browser('chrome', headless = True) #headless to false makes a window pop up\n",
    "browser.visit(url)\n",
    "html = browser.html\n",
    "soup = BeautifulSoup(html, 'html.parser')\n",
    "\n",
    "authors = []\n",
    "\n",
    "i = True\n",
    "\n",
    "while i == True:\n",
    "    \n",
    "    \n",
    "\n",
    "    for x in soup.find_all('small', class_ = 'author'):\n",
    "        authors.append(x.text)\n",
    "        \n",
    "    #try-accept statement -> keep going next until there is an error    \n",
    "    try: \n",
    "        browser.click_link_by_partial_text('Next')#click next\n",
    "        time.sleep(1) #helps with not getting banned\n",
    "        html = browser.html #need to grab new html\n",
    "        soup = BeautifulSoup(html, 'html.parser')#get new text from new page\n",
    "    \n",
    "    except:\n",
    "        break\n",
    "\n",
    "    "
   ]
  },
  {
   "cell_type": "code",
   "execution_count": 79,
   "metadata": {},
   "outputs": [],
   "source": [
    "#pull all tags\n",
    "\n",
    "browser = Browser('chrome', headless = True) #headless to false makes a window pop up\n",
    "browser.visit(url)\n",
    "html = browser.html\n",
    "soup = BeautifulSoup(html, 'html.parser')\n",
    "\n",
    "tags = []\n",
    "\n",
    "\n",
    "for element in soup.find_all('div', class_ = 'tags'):\n",
    "    element_tags = []\n",
    "    for tag in element.find_all('a'):\n",
    "        element_tags.append(tag.text)\n",
    "    tags.append(element_tags)\n",
    "\n",
    "\n",
    "i = True\n",
    "\n",
    "while i == True:\n",
    "    \n",
    "    \n",
    "\n",
    "    for element in soup.find_all('div', class_ = 'tags'):\n",
    "        element_tags = []\n",
    "        for tag in element.find_all('a'):\n",
    "            element_tags.append(tag.text)\n",
    "        tags.append(element_tags)\n",
    "        \n",
    "    #try-accept statement -> keep going next until there is an error    \n",
    "    try: \n",
    "        browser.click_link_by_partial_text('Next')#click next\n",
    "        time.sleep(1) #helps with not getting banned\n",
    "        html = browser.html #need to grab new html\n",
    "        soup = BeautifulSoup(html, 'html.parser')#get new text from new page\n",
    "    \n",
    "    except:\n",
    "        break\n",
    "\n",
    "    "
   ]
  },
  {
   "cell_type": "code",
   "execution_count": 81,
   "metadata": {},
   "outputs": [
    {
     "data": {
      "text/plain": [
       "['Albert Einstein',\n",
       " 'J.K. Rowling',\n",
       " 'Albert Einstein',\n",
       " 'Jane Austen',\n",
       " 'Marilyn Monroe',\n",
       " 'Albert Einstein',\n",
       " 'André Gide',\n",
       " 'Thomas A. Edison',\n",
       " 'Eleanor Roosevelt',\n",
       " 'Steve Martin',\n",
       " 'Marilyn Monroe',\n",
       " 'J.K. Rowling',\n",
       " 'Albert Einstein',\n",
       " 'Bob Marley',\n",
       " 'Dr. Seuss',\n",
       " 'Douglas Adams',\n",
       " 'Elie Wiesel',\n",
       " 'Friedrich Nietzsche',\n",
       " 'Mark Twain',\n",
       " 'Allen Saunders',\n",
       " 'Pablo Neruda',\n",
       " 'Ralph Waldo Emerson',\n",
       " 'Mother Teresa',\n",
       " 'Garrison Keillor',\n",
       " 'Jim Henson',\n",
       " 'Dr. Seuss',\n",
       " 'Albert Einstein',\n",
       " 'J.K. Rowling',\n",
       " 'Albert Einstein',\n",
       " 'Bob Marley',\n",
       " 'Dr. Seuss',\n",
       " 'J.K. Rowling',\n",
       " 'Bob Marley',\n",
       " 'Mother Teresa',\n",
       " 'J.K. Rowling',\n",
       " 'Charles M. Schulz',\n",
       " 'William Nicholson',\n",
       " 'Albert Einstein',\n",
       " 'Jorge Luis Borges',\n",
       " 'George Eliot',\n",
       " 'George R.R. Martin',\n",
       " 'C.S. Lewis',\n",
       " 'Marilyn Monroe',\n",
       " 'Marilyn Monroe',\n",
       " 'Albert Einstein',\n",
       " 'Marilyn Monroe',\n",
       " 'Marilyn Monroe',\n",
       " 'Martin Luther King Jr.',\n",
       " 'J.K. Rowling',\n",
       " 'James Baldwin',\n",
       " 'Jane Austen',\n",
       " 'Eleanor Roosevelt',\n",
       " 'Marilyn Monroe',\n",
       " 'Albert Einstein',\n",
       " 'Haruki Murakami',\n",
       " 'Alexandre Dumas fils',\n",
       " 'Stephenie Meyer',\n",
       " 'Ernest Hemingway',\n",
       " 'Helen Keller',\n",
       " 'George Bernard Shaw',\n",
       " 'Charles Bukowski',\n",
       " 'Suzanne Collins',\n",
       " 'Suzanne Collins',\n",
       " 'C.S. Lewis',\n",
       " 'J.R.R. Tolkien',\n",
       " 'J.K. Rowling',\n",
       " 'Ernest Hemingway',\n",
       " 'Ralph Waldo Emerson',\n",
       " 'Mark Twain',\n",
       " 'Dr. Seuss',\n",
       " 'Alfred Tennyson',\n",
       " 'Charles Bukowski',\n",
       " 'Terry Pratchett',\n",
       " 'Dr. Seuss',\n",
       " 'J.D. Salinger',\n",
       " 'George Carlin',\n",
       " 'John Lennon',\n",
       " 'W.C. Fields',\n",
       " 'Ayn Rand',\n",
       " 'Mark Twain',\n",
       " 'Albert Einstein',\n",
       " 'Jane Austen',\n",
       " 'J.K. Rowling',\n",
       " 'Jane Austen',\n",
       " 'Jane Austen',\n",
       " 'C.S. Lewis',\n",
       " 'C.S. Lewis',\n",
       " 'Mark Twain',\n",
       " 'Mark Twain',\n",
       " 'C.S. Lewis',\n",
       " 'J.K. Rowling',\n",
       " 'Jimi Hendrix',\n",
       " 'J.M. Barrie',\n",
       " 'E.E. Cummings',\n",
       " 'Khaled Hosseini',\n",
       " 'Harper Lee',\n",
       " \"Madeleine L'Engle\",\n",
       " 'Mark Twain',\n",
       " 'Dr. Seuss',\n",
       " 'George R.R. Martin']"
      ]
     },
     "execution_count": 81,
     "metadata": {},
     "output_type": "execute_result"
    }
   ],
   "source": [
    "authors"
   ]
  },
  {
   "cell_type": "code",
   "execution_count": null,
   "metadata": {},
   "outputs": [],
   "source": []
  }
 ],
 "metadata": {
  "kernelspec": {
   "display_name": "learn-env",
   "language": "python",
   "name": "learn-env"
  },
  "language_info": {
   "codemirror_mode": {
    "name": "ipython",
    "version": 3
   },
   "file_extension": ".py",
   "mimetype": "text/x-python",
   "name": "python",
   "nbconvert_exporter": "python",
   "pygments_lexer": "ipython3",
   "version": "3.6.6"
  }
 },
 "nbformat": 4,
 "nbformat_minor": 2
}
